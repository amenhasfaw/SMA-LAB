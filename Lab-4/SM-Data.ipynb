{
 "cells": [
  {
   "cell_type": "code",
   "execution_count": null,
   "metadata": {},
   "outputs": [],
   "source": [
    "import requests\n",
    "\n",
    "# Define your Facebook Graph API credentials\n",
    "access_token = 'EAAON6utqKOEBO93TyGGZAoq1qIKDSlZCUGS59i2dSZCUixerV2knNZBzBd7Ul770EfGIRqF23zBZCGW76FNIukNLxfr8hFnZCYynujt4hAvbWGtocSJJpYAqX9LD4HWKurDcSXu5ztjaTC71tijZCGr4dKX5Wcldz4pZBV4Y1Fg9zsa3MZAAdAmdEoYpQiZCPF3ncFosEj49Epa35aR5BuAfvBbWS6OZAJTl2NvCzTfjyMsnMvQq0YqMvzAqoDG7EEXLLif6o8K4QZDZD'\n",
    "\n",
    "# Define the topic you want to search for\n",
    "topic = 'CODING'\n",
    "\n",
    "# Define the API endpoint for searching posts\n",
    "url = f'https://graph.facebook.com/v19.0/search?q={topic}&type=post&access_token={access_token}'\n",
    "\n",
    "# Make a GET request to the API endpoint\n",
    "response = requests.get(url)\n",
    "\n",
    "# Check if the request was successful\n",
    "if response.status_code == 200:\n",
    "    # Parse the JSON response\n",
    "    data = response.json()\n",
    "    \n",
    "    # Extract relevant information from the response\n",
    "    posts = data.get('data', [])\n",
    "    \n",
    "    # Print the posts\n",
    "    for post in posts:\n",
    "        print(post)\n",
    "else:\n",
    "    print(f\"Error: {response.status_code}, {response.text}\")\n"
   ]
  }
 ],
 "metadata": {
  "kernelspec": {
   "display_name": "ML",
   "language": "python",
   "name": "python3"
  },
  "language_info": {
   "codemirror_mode": {
    "name": "ipython",
    "version": 3
   },
   "file_extension": ".py",
   "mimetype": "text/x-python",
   "name": "python",
   "nbconvert_exporter": "python",
   "pygments_lexer": "ipython3",
   "version": "3.9.16"
  }
 },
 "nbformat": 4,
 "nbformat_minor": 2
}
