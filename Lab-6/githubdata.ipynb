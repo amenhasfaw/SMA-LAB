{
 "cells": [
  {
   "cell_type": "code",
   "execution_count": 1,
   "metadata": {},
   "outputs": [
    {
     "name": "stdout",
     "output_type": "stream",
     "text": [
      "Data written to github_languages.csv\n"
     ]
    }
   ],
   "source": [
    "import csv\n",
    "import requests\n",
    "\n",
    "# GitHub API base URL\n",
    "base_url = \"https://api.github.com\"\n",
    "\n",
    "# Function to search repositories on GitHub\n",
    "def search_repositories(query):\n",
    "    endpoint = \"search/repositories\"\n",
    "    params = {\"q\": query}\n",
    "    response = requests.get(f\"{base_url}/{endpoint}\", params=params)\n",
    "    if response.status_code == 200:\n",
    "        return response.json()[\"items\"]\n",
    "    else:\n",
    "        print(f\"Failed to fetch repositories: {response.text}\")\n",
    "        return []\n",
    "\n",
    "# Function to count occurrences of programming languages\n",
    "def count_languages(repositories):\n",
    "    languages = {}\n",
    "    for repo in repositories:\n",
    "        language = repo[\"language\"]\n",
    "        if language:\n",
    "            languages[language] = languages.get(language, 0) + 1\n",
    "    return languages\n",
    "\n",
    "# Example: Find the most common programming languages\n",
    "query = \"stars:>100\"  # Search for repositories with more than 100 stars\n",
    "repositories = search_repositories(query)\n",
    "language_counts = count_languages(repositories)\n",
    "most_common_languages = sorted(language_counts.items(), key=lambda x: x[1], reverse=True)\n",
    "\n",
    "# Write data to a CSV file\n",
    "csv_filename = \"github_languages.csv\"\n",
    "with open(csv_filename, \"w\", newline=\"\") as csvfile:\n",
    "    csv_writer = csv.writer(csvfile)\n",
    "    csv_writer.writerow([\"Language\", \"Count\"])\n",
    "    for language, count in most_common_languages:\n",
    "        csv_writer.writerow([language, count])\n",
    "\n",
    "print(f\"Data written to {csv_filename}\")\n"
   ]
  },
  {
   "cell_type": "code",
   "execution_count": 2,
   "metadata": {},
   "outputs": [
    {
     "name": "stdout",
     "output_type": "stream",
     "text": [
      "Dataset with 100 rows created and saved to dummy_dataset.csv\n"
     ]
    }
   ],
   "source": [
    "import csv\n",
    "import random\n",
    "\n",
    "# Function to generate random names\n",
    "def generate_name():\n",
    "    first_names = [\"John\", \"Emma\", \"Michael\", \"Sophia\", \"William\", \"Olivia\", \"James\", \"Amelia\", \"Benjamin\", \"Isabella\"]\n",
    "    last_names = [\"Smith\", \"Johnson\", \"Williams\", \"Brown\", \"Jones\", \"Miller\", \"Davis\", \"Garcia\", \"Rodriguez\", \"Martinez\"]\n",
    "    return f\"{random.choice(first_names)} {random.choice(last_names)}\"\n",
    "\n",
    "# Function to generate random ages\n",
    "def generate_age():\n",
    "    return random.randint(18, 70)\n",
    "\n",
    "# Function to generate random countries\n",
    "def generate_country():\n",
    "    countries = [\"USA\", \"Canada\", \"UK\", \"Australia\", \"Germany\", \"France\", \"Italy\", \"Japan\", \"Brazil\", \"India\"]\n",
    "    return random.choice(countries)\n",
    "\n",
    "# Generate dataset\n",
    "dataset = []\n",
    "for i in range(100):\n",
    "    row = {\n",
    "        \"ID\": i + 1,\n",
    "        \"Name\": generate_name(),\n",
    "        \"Age\": generate_age(),\n",
    "        \"Country\": generate_country()\n",
    "    }\n",
    "    dataset.append(row)\n",
    "\n",
    "# Write dataset to CSV file\n",
    "csv_filename = \"dummy_dataset.csv\"\n",
    "with open(csv_filename, \"w\", newline=\"\") as csvfile:\n",
    "    fieldnames = [\"ID\", \"Name\", \"Age\", \"Country\"]\n",
    "    csv_writer = csv.DictWriter(csvfile, fieldnames=fieldnames)\n",
    "    \n",
    "    csv_writer.writeheader()\n",
    "    for row in dataset:\n",
    "        csv_writer.writerow(row)\n",
    "\n",
    "print(f\"Dataset created and saved to {csv_filename}\")\n"
   ]
  }
 ],
 "metadata": {
  "kernelspec": {
   "display_name": "ML",
   "language": "python",
   "name": "python3"
  },
  "language_info": {
   "codemirror_mode": {
    "name": "ipython",
    "version": 3
   },
   "file_extension": ".py",
   "mimetype": "text/x-python",
   "name": "python",
   "nbconvert_exporter": "python",
   "pygments_lexer": "ipython3",
   "version": "3.9.16"
  }
 },
 "nbformat": 4,
 "nbformat_minor": 2
}
